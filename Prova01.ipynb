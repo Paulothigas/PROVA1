{
 "cells": [
  {
   "cell_type": "code",
   "execution_count": 3,
   "id": "bac22afb-ad6a-44c6-b940-1483ecce2b9f",
   "metadata": {},
   "outputs": [
    {
     "name": "stdout",
     "output_type": "stream",
     "text": [
      "4\n"
     ]
    }
   ],
   "source": [
    "class No:\n",
    "    def __init__(self,valor):\n",
    "        self.valor = valor \n",
    "        self.proximo = None \n",
    "\n",
    "class ListaEncadeada:\n",
    "    def __init__(self):\n",
    "        self.inicio = None \n",
    "\n",
    "    def inserir(self,valor):\n",
    "        novo_no = No(valor)\n",
    "        if self.inicio is None:\n",
    "            self.inicio = novo_no\n",
    "        else:\n",
    "            atual = self.inicio\n",
    "            while atual.proximo:\n",
    "                atual = atual.proximo\n",
    "            atual.proximo = novo_no\n",
    "\n",
    "    def contar(self):\n",
    "        contador = 0 \n",
    "        atual = self.inicio\n",
    "\n",
    "\n",
    "        while atual is not None:\n",
    "            contador += 1 \n",
    "\n",
    "            atual = atual.proximo\n",
    "\n",
    "        return contador \n",
    "\n",
    "\n",
    "lista = ListaEncadeada()\n",
    "lista.inserir(5)\n",
    "lista.inserir(15)\n",
    "lista.inserir(25)\n",
    "lista.inserir(1)\n",
    "print(lista.contar())"
   ]
  },
  {
   "cell_type": "code",
   "execution_count": null,
   "id": "8e36bf04-fe26-4d56-9ce0-a4509e927973",
   "metadata": {},
   "outputs": [],
   "source": []
  }
 ],
 "metadata": {
  "kernelspec": {
   "display_name": "Python 3 (ipykernel)",
   "language": "python",
   "name": "python3"
  },
  "language_info": {
   "codemirror_mode": {
    "name": "ipython",
    "version": 3
   },
   "file_extension": ".py",
   "mimetype": "text/x-python",
   "name": "python",
   "nbconvert_exporter": "python",
   "pygments_lexer": "ipython3",
   "version": "3.13.5"
  }
 },
 "nbformat": 4,
 "nbformat_minor": 5
}
